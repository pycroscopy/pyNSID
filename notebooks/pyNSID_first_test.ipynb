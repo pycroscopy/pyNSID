{
 "cells": [
  {
   "cell_type": "markdown",
   "metadata": {},
   "source": [
    "<font size = \"5\"> **pyNSID Data format** </font>\n",
    "\n",
    "\n",
    "<hr style=\"height:1px;border-top:4px solid #FF8200\" />\n",
    "\n",
    "# pyNSID Data Format: First Test\n",
    "\n",
    "part of \n",
    "\n",
    "<font size = \"5\"> **[pycroscopy](https://pycroscopy.github.io/pycroscopy/about.html)**</font>\n",
    "\n",
    "\n",
    "by Gerd Duscher, Fall 2020\n",
    "The University of Tennessee, Knoxville\n"
   ]
  },
  {
   "cell_type": "code",
   "execution_count": null,
   "metadata": {},
   "outputs": [],
   "source": [
    "#import sys\n",
    "#!{sys.executable} -m pip install  --upgrade  ../pyNSID/"
   ]
  },
  {
   "cell_type": "markdown",
   "metadata": {},
   "source": [
    "## Load Necessary Packages"
   ]
  },
  {
   "cell_type": "code",
   "execution_count": 1,
   "metadata": {},
   "outputs": [],
   "source": [
    "import h5py\n",
    "\n",
    "# Import pyNSID\n",
    "import os, sys\n",
    "sys.path.append('../../..')\n",
    "\n",
    "import pyNSID as nsid\n",
    "\n",
    "#print('pyNSID version: ', nsid.__version__.version)"
   ]
  },
  {
   "cell_type": "markdown",
   "metadata": {},
   "source": [
    "## Input\n",
    "Some Random Data"
   ]
  },
  {
   "cell_type": "code",
   "execution_count": 2,
   "metadata": {},
   "outputs": [
    {
     "data": {
      "text/plain": [
       "{0: Y - Length (um): [ 0.   2.5  5.   7.5 10. ],\n",
       " 1: X - Length (um): [0. 1. 2. 3. 4. 5. 6.],\n",
       " 2: DC offset - Bias (V): [ 0.00000000e+00  5.87785252e-01  9.51056516e-01  9.51056516e-01\n",
       "   5.87785252e-01  1.22464680e-16 -5.87785252e-01 -9.51056516e-01\n",
       "  -9.51056516e-01 -5.87785252e-01 -2.44929360e-16],\n",
       " 3: BE Frequency - Frequency (Hz): [ 0.  5. 10.]}"
      ]
     },
     "execution_count": 2,
     "metadata": {},
     "output_type": "execute_result"
    }
   ],
   "source": [
    "main_data_name  = 'nDim_Data'\n",
    "main_data = np.random.rand(5, 7, 11, 3)\n",
    "quantity = 'intensity'\n",
    "units= \"pixel\"\n",
    "\n",
    "dim_dict = {0: nsid.io.Dimension('Y', 'Length', 'um', np.linspace(0, 10, num=5), True),\n",
    "        1: nsid.io.Dimension('X', 'Length', 'um', np.linspace(0, 6, num=7), True),\n",
    "        2: nsid.io.Dimension('DC offset', 'Bias', 'V', np.sin(np.linspace(0, 1, num=11) * 2 * np.pi), True),\n",
    "        3: nsid.io.Dimension('BE Frequency', 'Frequency', 'Hz', np.linspace(0, 10, num=3), True)}\n",
    "\n",
    "dim_dict \n"
   ]
  },
  {
   "cell_type": "markdown",
   "metadata": {},
   "source": [
    "## Open File and make one Dimension a dataset"
   ]
  },
  {
   "cell_type": "code",
   "execution_count": 3,
   "metadata": {},
   "outputs": [
    {
     "data": {
      "text/plain": [
       "{0: Y - Length (um): [ 0.   2.5  5.   7.5 10. ],\n",
       " 1: X - Length (um): [0. 1. 2. 3. 4. 5. 6.],\n",
       " 2: <HDF5 dataset \"DC offset\": shape (11,), type \"<f8\">,\n",
       " 3: BE Frequency - Frequency (Hz): [ 0.  5. 10.]}"
      ]
     },
     "execution_count": 3,
     "metadata": {},
     "output_type": "execute_result"
    }
   ],
   "source": [
    "try:\n",
    "    h5_file.close()\n",
    "except:\n",
    "    pass\n",
    "h5_file =  h5py.File('test.hf5', mode='a')\n",
    "if \"Measurement_000/Channel_000\" in h5_file:\n",
    "    current_channel = h5_file[\"Measurement_000/Channel_000\"]\n",
    "    for key in current_channel:\n",
    "        del current_channel[key]\n",
    "else:\n",
    "    current_channel = h5_file.create_group(\"Measurement_000/Channel_000\")\n",
    "\n",
    "if 'DC offset' not in current_channel:\n",
    "    current_channel['DC offset'] = np.sin(np.linspace(0, 1, num=11) * 2 * np.pi)\n",
    "\n",
    "dim_dict[2] = current_channel['DC offset'] \n",
    "current_channel['DC offset'].attrs['name']= 'DC offset'\n",
    "current_channel['DC offset'].attrs['quantity']= 'Bias'\n",
    "current_channel['DC offset'].attrs['units'] = 'V'\n",
    "current_channel['DC offset'].attrs['is_position'] = False\n",
    "dim_dict\n"
   ]
  },
  {
   "cell_type": "markdown",
   "metadata": {},
   "source": [
    "## Write Dataset"
   ]
  },
  {
   "cell_type": "code",
   "execution_count": 4,
   "metadata": {},
   "outputs": [
    {
     "name": "stdout",
     "output_type": "stream",
     "text": [
      "{0: Y - Length (um): [ 0.   2.5  5.   7.5 10. ], 1: X - Length (um): [0. 1. 2. 3. 4. 5. 6.], 2: <HDF5 dataset \"DC offset\": shape (11,), type \"<f8\">, 3: BE Frequency - Frequency (Hz): [ 0.  5. 10.]}\n",
      "h5 group and file OK\n",
      "quantity, units, main_data_name all OK\n",
      "Provided numpy or Dask array for main_data OK so far\n",
      "Dimensions are correct!\n",
      "Created main dataset with provided data\n",
      "Wrote dimensions and attributes to main dataset\n",
      "Successfully linked datasets - dataset should be main now\n"
     ]
    }
   ],
   "source": [
    "main_data_name  = 'nDim_Data'\n",
    "main_data = np.random.rand(5, 7, 11, 3)\n",
    "quantity = 'intensity'\n",
    "units=\"pixel\"\n",
    "data_type = 'STM_spectroscopy'\n",
    "modality = 'test'\n",
    "source= 'Gedanken'\n",
    "print(dim_dict)\n",
    "current_dataset = nsid.io.hdf_utils.write_main_dataset(current_channel, main_data, main_data_name, \n",
    "                                                       quantity, units, data_type, modality, source, \n",
    "                                                       dim_dict,verbose=True)"
   ]
  },
  {
   "cell_type": "markdown",
   "metadata": {},
   "source": [
    "## Check if main"
   ]
  },
  {
   "cell_type": "code",
   "execution_count": 5,
   "metadata": {},
   "outputs": [
    {
     "name": "stdout",
     "output_type": "stream",
     "text": [
      "Dimensions: All Attributes:  True\n",
      "Dimensions: All Correct Length:  True\n",
      "Dimensions: All h5 Datasets:  True\n",
      "All Attributes in dataset:  True\n"
     ]
    }
   ],
   "source": [
    "h5_main = current_dataset\n",
    "if len(current_dataset.dims) <3:\n",
    "    pass\n",
    "attrs_names = ['is_position', 'name', 'nsid_version', 'quantity', 'units']\n",
    "attr_success = []\n",
    "length_success = []\n",
    "dset_success = []\n",
    "### Check for \n",
    "for i, dimension in enumerate(current_dataset.dims):\n",
    "    # check for all required attributes\n",
    "    h5_dim_dset =  current_channel[dimension.label]\n",
    "    attr_success.append(np.all([att in h5_dim_dset.attrs for att in attrs_names]))\n",
    "    dset_success.append(np.all([attr_success, isinstance(h5_dim_dset, h5py.Dataset)]))\n",
    "    # dimensional scale has to be 1D\n",
    "    if len(h5_dim_dset.shape) == 1:\n",
    "        # and of the same length as the shape of the dataset\n",
    "        length_success.append(current_dataset.shape[i] == h5_dim_dset.shape[0] )\n",
    "    else:\n",
    "        length_success.append(False)\n",
    "# We have the list now and can get error messages according to which dataset is bad or not.\n",
    "print ('Dimensions: All Attributes: ', np.all(attr_success))\n",
    "print ('Dimensions: All Correct Length: ',np.all(length_success))\n",
    "print ('Dimensions: All h5 Datasets: ',np.all(dset_success))\n",
    "\n",
    "#Check for all required attributes in dataset\n",
    "main_attrs_names = ['quantity', 'units', 'main_data_name','data_type', 'modality', 'source']\n",
    "main_attr_success = np.all([att in h5_main.attrs for att in main_attrs_names])\n",
    "print('All Attributes in dataset: ', main_attr_success)\n"
   ]
  },
  {
   "cell_type": "code",
   "execution_count": 6,
   "metadata": {},
   "outputs": [
    {
     "data": {
      "text/plain": [
       "True"
      ]
     },
     "execution_count": 6,
     "metadata": {},
     "output_type": "execute_result"
    }
   ],
   "source": [
    "nsid.io.hdf_utils.check_if_main(current_dataset)"
   ]
  },
  {
   "cell_type": "code",
   "execution_count": null,
   "metadata": {},
   "outputs": [],
   "source": []
  }
 ],
 "metadata": {
  "kernelspec": {
   "display_name": "Python 3",
   "language": "python",
   "name": "python3"
  },
  "toc": {
   "base_numbering": 1,
   "nav_menu": {},
   "number_sections": true,
   "sideBar": true,
   "skip_h1_title": false,
   "title_cell": "Table of Contents",
   "title_sidebar": "Contents",
   "toc_cell": false,
   "toc_position": {},
   "toc_section_display": true,
   "toc_window_display": true
  },
  "varInspector": {
   "cols": {
    "lenName": 16,
    "lenType": 16,
    "lenVar": 40
   },
   "kernels_config": {
    "python": {
     "delete_cmd_postfix": "",
     "delete_cmd_prefix": "del ",
     "library": "var_list.py",
     "varRefreshCmd": "print(var_dic_list())"
    },
    "r": {
     "delete_cmd_postfix": ") ",
     "delete_cmd_prefix": "rm(",
     "library": "var_list.r",
     "varRefreshCmd": "cat(var_dic_list()) "
    }
   },
   "types_to_exclude": [
    "module",
    "function",
    "builtin_function_or_method",
    "instance",
    "_Feature"
   ],
   "window_display": true
  }
 },
 "nbformat": 4,
 "nbformat_minor": 4
}

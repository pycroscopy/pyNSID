{
 "cells": [
  {
   "cell_type": "markdown",
   "metadata": {},
   "source": [
    "# Write/read SIDpy Dataset via pyNSID\n",
    "\n",
    "*Date: September 2020*"
   ]
  },
  {
   "cell_type": "markdown",
   "metadata": {},
   "source": [
    "A fast introduction into how to write SIDpy datasets to NSID formatted HDF5 files"
   ]
  },
  {
   "cell_type": "markdown",
   "metadata": {},
   "source": [
    "Start with standard imports:"
   ]
  },
  {
   "source": [
    "# Ensure python 3 compatibility:\n",
    "from __future__ import (absolute_import, division, print_function,\n",
    "                        unicode_literals)\n",
    "\n",
    "import sys\n",
    "import warnings\n",
    "\n",
    "import h5py\n",
    "import matplotlib.pylab as plt\n",
    "import numpy as np\n",
    "\n",
    "# we will also need a sidpy package\n",
    "try:\n",
    "    import sidpy as sid\n",
    "except ModuleNotFoundError:\n",
    "    !pip3 install git+https://github.com/pycroscopy/sidpy.git\n",
    "    import sidpy as sid\n",
    "\n",
    "sys.path.append('../')\n",
    "import pyNSID as nsid\n",
    "\n",
    "warnings.filterwarnings(\"ignore\", module=\"numpy.core.fromnumeric\")\n",
    "warnings.filterwarnings(\"ignore\", module=\"pyNSID.io.nsi_reader\")"
   ],
   "cell_type": "code",
   "outputs": [],
   "metadata": {},
   "execution_count": 1
  },
  {
   "cell_type": "markdown",
   "execution_count": null,
   "metadata": {},
   "outputs": [],
   "source": [
    "## Creating sidpy.Dataset object(s)"
   ]
  },
  {
   "cell_type": "markdown",
   "metadata": {},
   "source": [
    "Let's create a simple sidpy Dataset from a numpy array:"
   ]
  },
  {
   "source": [
    "dataset = sid.Dataset.from_array(np.random.random([4, 5, 10]), name='new')\n",
    "dataset"
   ],
   "cell_type": "code",
   "outputs": [
    {
     "output_type": "execute_result",
     "data": {
      "text/plain": "sidpy.Dataset of type UNKNOWN with:\n dask.array<new, shape=(4, 5, 10), dtype=float64, chunksize=(4, 5, 10), chunktype=numpy.ndarray>\n data contains: generic (generic)\n and Dimensions: \n  a:  generic (generic) of size (4,)\n  b:  generic (generic) of size (5,)\n  c:  generic (generic) of size (10,)",
      "text/html": "<table>\n<tr>\n<td>\n<table>\n  <thead>\n    <tr><td> </td><th> Array </th><th> Chunk </th></tr>\n  </thead>\n  <tbody>\n    <tr><th> Bytes </th><td> 1.60 kB </td> <td> 1.60 kB </td></tr>\n    <tr><th> Shape </th><td> (4, 5, 10) </td> <td> (4, 5, 10) </td></tr>\n    <tr><th> Count </th><td> 1 Tasks </td><td> 1 Chunks </td></tr>\n    <tr><th> Type </th><td> float64 </td><td> numpy.ndarray </td></tr>\n  </tbody>\n</table>\n</td>\n<td>\n<svg width=\"208\" height=\"138\" style=\"stroke:rgb(0,0,0);stroke-width:1\" >\n\n  <!-- Horizontal lines -->\n  <line x1=\"10\" y1=\"0\" x2=\"38\" y2=\"28\" style=\"stroke-width:2\" />\n  <line x1=\"10\" y1=\"60\" x2=\"38\" y2=\"88\" style=\"stroke-width:2\" />\n\n  <!-- Vertical lines -->\n  <line x1=\"10\" y1=\"0\" x2=\"10\" y2=\"60\" style=\"stroke-width:2\" />\n  <line x1=\"38\" y1=\"28\" x2=\"38\" y2=\"88\" style=\"stroke-width:2\" />\n\n  <!-- Colored Rectangle -->\n  <polygon points=\"10.000000,0.000000 38.235294,28.235294 38.235294,88.235294 10.000000,60.000000\" style=\"fill:#ECB172A0;stroke-width:0\"/>\n\n  <!-- Horizontal lines -->\n  <line x1=\"10\" y1=\"0\" x2=\"130\" y2=\"0\" style=\"stroke-width:2\" />\n  <line x1=\"38\" y1=\"28\" x2=\"158\" y2=\"28\" style=\"stroke-width:2\" />\n\n  <!-- Vertical lines -->\n  <line x1=\"10\" y1=\"0\" x2=\"38\" y2=\"28\" style=\"stroke-width:2\" />\n  <line x1=\"130\" y1=\"0\" x2=\"158\" y2=\"28\" style=\"stroke-width:2\" />\n\n  <!-- Colored Rectangle -->\n  <polygon points=\"10.000000,0.000000 130.000000,0.000000 158.235294,28.235294 38.235294,28.235294\" style=\"fill:#ECB172A0;stroke-width:0\"/>\n\n  <!-- Horizontal lines -->\n  <line x1=\"38\" y1=\"28\" x2=\"158\" y2=\"28\" style=\"stroke-width:2\" />\n  <line x1=\"38\" y1=\"88\" x2=\"158\" y2=\"88\" style=\"stroke-width:2\" />\n\n  <!-- Vertical lines -->\n  <line x1=\"38\" y1=\"28\" x2=\"38\" y2=\"88\" style=\"stroke-width:2\" />\n  <line x1=\"158\" y1=\"28\" x2=\"158\" y2=\"88\" style=\"stroke-width:2\" />\n\n  <!-- Colored Rectangle -->\n  <polygon points=\"38.235294,28.235294 158.235294,28.235294 158.235294,88.235294 38.235294,88.235294\" style=\"fill:#ECB172A0;stroke-width:0\"/>\n\n  <!-- Text -->\n  <text x=\"98.235294\" y=\"108.235294\" font-size=\"1.0rem\" font-weight=\"100\" text-anchor=\"middle\" >10</text>\n  <text x=\"178.235294\" y=\"58.235294\" font-size=\"1.0rem\" font-weight=\"100\" text-anchor=\"middle\" transform=\"rotate(0,178.235294,58.235294)\">5</text>\n  <text x=\"14.117647\" y=\"94.117647\" font-size=\"1.0rem\" font-weight=\"100\" text-anchor=\"middle\" transform=\"rotate(45,14.117647,94.117647)\">4</text>\n</svg>\n</td>\n</tr>\n</table>"
     },
     "metadata": {},
     "execution_count": 2
    }
   ],
   "metadata": {},
   "execution_count": 2
  },
  {
   "cell_type": "markdown",
   "metadata": {},
   "source": [
    "Let's also define the dataset attributes..."
   ]
  },
  {
   "source": [
    "dataset.data_type = 'SPECTRAL_IMAGE'\n",
    "dataset.units = 'nA'\n",
    "dataset.quantity = 'Current'"
   ],
   "cell_type": "code",
   "outputs": [],
   "metadata": {},
   "execution_count": 3
  },
  {
   "cell_type": "markdown",
   "execution_count": null,
   "metadata": {},
   "outputs": [],
   "source": [
    "... and set individual dimensions. In the case of spectroscopic datasets, the first two dimensions are typically spatial units (e.g. nm) and the third one can be energy (e.g. $meV$ or $nm^{-1}$)."
   ]
  },
  {
   "source": [
    "dataset.set_dimension(0, sid.Dimension(np.arange(dataset.shape[0]), 'x',\n",
    "                                        units='nm', quantity='Length',\n",
    "                                        dimension_type='spatial'))\n",
    "dataset.set_dimension(1, sid.Dimension(np.linspace(-2, 2, num=dataset.shape[1], endpoint=True), 'y', \n",
    "                                        units='nm', quantity='Length',\n",
    "                                        dimension_type='spatial'))\n",
    "dataset.set_dimension(2, sid.Dimension(np.sin(np.linspace(0, 2 * np.pi, num=dataset.shape[2])), 'bias',\n",
    "                                        units='mV', quantity='Voltage',\n",
    "                                        dimension_type='spectral'))"
   ],
   "cell_type": "code",
   "outputs": [],
   "metadata": {},
   "execution_count": 4
  },
  {
   "source": [
    "print(dataset.dim_0)\n",
    "print(dataset.dim_1)\n",
    "print(dataset.dim_2)"
   ],
   "cell_type": "code",
   "outputs": [
    {
     "output_type": "stream",
     "name": "stdout",
     "text": "x:  Length (nm) of size (4,)\ny:  Length (nm) of size (5,)\nbias:  Voltage (mV) of size (10,)\n"
    }
   ],
   "metadata": {},
   "execution_count": 5
  },
  {
   "cell_type": "markdown",
   "execution_count": null,
   "metadata": {},
   "outputs": [],
   "source": [
    "## Writing sidpy.Dataset object(s) to HDF5 files"
   ]
  },
  {
   "cell_type": "markdown",
   "execution_count": null,
   "metadata": {},
   "outputs": [],
   "source": [
    "Load NSID-formatted h5 file:"
   ]
  },
  {
   "source": [
    "hf = h5py.File(\"test.hf5\", 'r+')\n",
    "print(*hf[\"Measurement_000\"].keys())"
   ],
   "cell_type": "code",
   "outputs": [
    {
     "output_type": "stream",
     "name": "stdout",
     "text": "Channel_000 Channel_001 Channel_002\n"
    }
   ],
   "metadata": {},
   "execution_count": 6
  },
  {
   "cell_type": "markdown",
   "execution_count": null,
   "metadata": {},
   "outputs": [],
   "source": [
    "Let's create a new channel where we are going to save our sidpy dataset:"
   ]
  },
  {
   "source": [
    "hf.create_group('Measurement_000/Channel_003')"
   ],
   "cell_type": "code",
   "outputs": [
    {
     "output_type": "execute_result",
     "data": {
      "text/plain": "<HDF5 group \"/Measurement_000/Channel_003\" (0 members)>"
     },
     "metadata": {},
     "execution_count": 7
    }
   ],
   "metadata": {},
   "execution_count": 7
  },
  {
   "source": [
    "Now let's write our sidpy dataset into the newly created channel:"
   ],
   "cell_type": "markdown",
   "outputs": [
    {
     "output_type": "error",
     "ename": "SyntaxError",
     "evalue": "invalid syntax (<ipython-input-79-2082d0f84c79>, line 1)",
     "traceback": [
      "\u001b[0;36m  File \u001b[0;32m\"<ipython-input-79-2082d0f84c79>\"\u001b[0;36m, line \u001b[0;32m1\u001b[0m\n\u001b[0;31m    It already has...\u001b[0m\n\u001b[0m       ^\u001b[0m\n\u001b[0;31mSyntaxError\u001b[0m\u001b[0;31m:\u001b[0m invalid syntax\n"
     ]
    }
   ],
   "metadata": {},
   "execution_count": 79
  },
  {
   "source": [
    "nsid.hdf_io.write_nsid_dataset(dataset, hf['Measurement_000/Channel_003'], main_data_name=\"new_spectrum\");"
   ],
   "cell_type": "code",
   "outputs": [
    {
     "output_type": "stream",
     "name": "stdout",
     "text": "<HDF5 group \"/Measurement_000/Channel_003\" (0 members)> new_spectrum\n"
    }
   ],
   "metadata": {},
   "execution_count": 8
  },
  {
   "cell_type": "markdown",
   "execution_count": null,
   "metadata": {},
   "outputs": [],
   "source": [
    "Close h5 file:"
   ]
  },
  {
   "source": [
    "hf.close()"
   ],
   "cell_type": "code",
   "outputs": [],
   "metadata": {},
   "execution_count": 9
  },
  {
   "cell_type": "markdown",
   "execution_count": null,
   "metadata": {},
   "outputs": [],
   "source": [
    "## Reading sidpy.Dataset object(s)"
   ]
  },
  {
   "cell_type": "markdown",
   "execution_count": null,
   "metadata": {},
   "outputs": [],
   "source": [
    "Load back the file:"
   ]
  },
  {
   "source": [
    "hf = h5py.File(\"test.hf5\", 'r+')\n",
    "print(*hf[\"Measurement_000\"].keys())"
   ],
   "cell_type": "code",
   "outputs": [
    {
     "output_type": "stream",
     "name": "stdout",
     "text": "Channel_000 Channel_001 Channel_002 Channel_003\n"
    }
   ],
   "metadata": {},
   "execution_count": 10
  },
  {
   "source": [
    "Find our dataset:"
   ],
   "cell_type": "markdown",
   "outputs": [
    {
     "output_type": "error",
     "ename": "SyntaxError",
     "evalue": "invalid syntax (<ipython-input-42-a9ca6b529b1e>, line 1)",
     "traceback": [
      "\u001b[0;36m  File \u001b[0;32m\"<ipython-input-42-a9ca6b529b1e>\"\u001b[0;36m, line \u001b[0;32m1\u001b[0m\n\u001b[0;31m    Find our dataset:\u001b[0m\n\u001b[0m         ^\u001b[0m\n\u001b[0;31mSyntaxError\u001b[0m\u001b[0;31m:\u001b[0m invalid syntax\n"
     ]
    }
   ],
   "metadata": {},
   "execution_count": 42
  },
  {
   "source": [
    "dataset_hdf5  =  nsid.io.hdf_utils.find_dataset(hf,'new_spectrum')[0]\n",
    "dataset_hdf5"
   ],
   "cell_type": "code",
   "outputs": [
    {
     "output_type": "execute_result",
     "data": {
      "text/plain": "<HDF5 dataset \"new_spectrum\": shape (4, 5, 10), type \"<f8\">"
     },
     "metadata": {},
     "execution_count": 11
    }
   ],
   "metadata": {},
   "execution_count": 11
  },
  {
   "cell_type": "markdown",
   "execution_count": null,
   "metadata": {},
   "outputs": [],
   "source": [
    "Read the dataset stored in HDF5 format as a sidpy object (Dataset) using NSIDReader:"
   ]
  },
  {
   "source": [
    "dr = nsid.NSIDReader(dataset_hdf5)\n",
    "dataset_sid = dr.read()[0]\n",
    "assert isinstance(dataset_sid, sid.sid.dataset.Dataset)"
   ],
   "cell_type": "code",
   "outputs": [],
   "metadata": {},
   "execution_count": 12
  },
  {
   "cell_type": "markdown",
   "execution_count": null,
   "metadata": {},
   "outputs": [],
   "source": [
    "View the attributes, which are stored as Python dictionary:"
   ]
  },
  {
   "source": [
    "for k, v in dataset_sid.attrs.items():\n",
    "    print(\"{}: {}\".format(k, v))"
   ],
   "cell_type": "code",
   "outputs": [
    {
     "output_type": "stream",
     "name": "stdout",
     "text": "DIMENSION_LABELS: [b'x' b'y' b'bias']\nDIMENSION_LIST: [array([<HDF5 object reference>], dtype=object)\n array([<HDF5 object reference>], dtype=object)\n array([<HDF5 object reference>], dtype=object)]\ndata_type: SPECTRAL_IMAGE\nmain_data_name: new\nmodality: generic\nnsid_version: 0.0.1\nquantity: Current\nsource: generic\nunits: nA\n"
    }
   ],
   "metadata": {},
   "execution_count": 13
  },
  {
   "cell_type": "code",
   "execution_count": null,
   "metadata": {},
   "outputs": [],
   "source": []
  }
 ],
 "metadata": {
  "kernelspec": {
   "display_name": "Python 3",
   "language": "python",
   "name": "python3"
  },
  "language_info": {
   "codemirror_mode": {
    "name": "ipython",
    "version": 3
   },
   "file_extension": ".py",
   "mimetype": "text/x-python",
   "name": "python",
   "nbconvert_exporter": "python",
   "pygments_lexer": "ipython3",
   "version": "3.8.3-final"
  }
 },
 "nbformat": 4,
 "nbformat_minor": 4
}